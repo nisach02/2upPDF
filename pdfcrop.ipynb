{
 "cells": [
  {
   "cell_type": "code",
   "execution_count": 1,
   "id": "5ede2c72-73cb-4aea-8221-330215bc17c6",
   "metadata": {},
   "outputs": [],
   "source": [
    "from PyPDF2 import PdfFileReader, PdfFileWriter\n",
    "import glob"
   ]
  },
  {
   "cell_type": "code",
   "execution_count": 47,
   "id": "d421b6af",
   "metadata": {},
   "outputs": [],
   "source": [
    "pdflist = sorted(glob.glob(\"roshani/*.pdf\"))"
   ]
  },
  {
   "cell_type": "code",
   "execution_count": 48,
   "id": "97c2bd07",
   "metadata": {},
   "outputs": [
    {
     "data": {
      "text/plain": [
       "'roshani/01.pdf'"
      ]
     },
     "execution_count": 48,
     "metadata": {},
     "output_type": "execute_result"
    }
   ],
   "source": [
    "pdflist[0]"
   ]
  },
  {
   "cell_type": "code",
   "execution_count": 49,
   "id": "5776f45d",
   "metadata": {},
   "outputs": [],
   "source": [
    "pdf = PdfFileReader(pdflist[0])"
   ]
  },
  {
   "cell_type": "code",
   "execution_count": 50,
   "id": "6bec9b50",
   "metadata": {},
   "outputs": [
    {
     "data": {
      "text/plain": [
       "1"
      ]
     },
     "execution_count": 50,
     "metadata": {},
     "output_type": "execute_result"
    }
   ],
   "source": [
    "pdf.getNumPages()"
   ]
  },
  {
   "cell_type": "code",
   "execution_count": 15,
   "id": "22f0114b",
   "metadata": {},
   "outputs": [
    {
     "data": {
      "text/plain": [
       "RectangleObject([0, 0, 511, 728])"
      ]
     },
     "execution_count": 15,
     "metadata": {},
     "output_type": "execute_result"
    }
   ],
   "source": [
    "first_page = pdf.getPage(0)\n",
    "first_page.mediaBox"
   ]
  },
  {
   "cell_type": "code",
   "execution_count": 7,
   "id": "0e05388e",
   "metadata": {},
   "outputs": [
    {
     "data": {
      "text/plain": [
       "(511, 728)"
      ]
     },
     "execution_count": 7,
     "metadata": {},
     "output_type": "execute_result"
    }
   ],
   "source": [
    "first_page.mediaBox.lowerLeft #0,0\n",
    "\n",
    "first_page.mediaBox.lowerRight #511,0\n",
    "\n",
    "first_page.mediaBox.upperLeft #0,728\n",
    "\n",
    "first_page.mediaBox.upperRight #511,728\n"
   ]
  },
  {
   "cell_type": "code",
   "execution_count": 16,
   "id": "313cc514",
   "metadata": {},
   "outputs": [],
   "source": [
    "first_page.mediaBox.lowerRight = (511, 364)\n",
    "first_page.mediaBox.lowerLeft = (0, 364)"
   ]
  },
  {
   "cell_type": "code",
   "execution_count": 18,
   "id": "44a93945",
   "metadata": {},
   "outputs": [],
   "source": [
    "from pathlib import Path\n",
    "\n",
    "pdf_writer = PdfFileWriter()\n",
    "pdf_writer.addPage(first_page)\n",
    "with Path(\"cropped_page.pdf\").open(mode=\"wb\") as output_file:\n",
    "    pdf_writer.write(output_file)"
   ]
  },
  {
   "cell_type": "code",
   "execution_count": 51,
   "id": "7921dfda",
   "metadata": {},
   "outputs": [],
   "source": [
    "nischal_pass = PdfFileWriter()\n",
    "for i in pdflist:\n",
    "    pdf = PdfFileReader(i)\n",
    "    first_page = pdf.getPage(0)\n",
    "    first_page.mediaBox.lowerRight = (511, 364)\n",
    "    first_page.mediaBox.lowerLeft = (0, 364)\n",
    "    nischal_pass.addPage(first_page)\n",
    "with Path(\"rosh.pdf\").open(mode=\"wb\") as output_file:\n",
    "    nischal_pass.write(output_file)"
   ]
  },
  {
   "cell_type": "code",
   "execution_count": 75,
   "id": "2eb08fee",
   "metadata": {},
   "outputs": [],
   "source": [
    "reader = PdfFileReader(\"rosh.pdf\")\n",
    "writer = PdfFileWriter()\n",
    "for i in range(0, len(reader.pages) - 1, 2):\n",
    "    lhs = reader.pages[i]\n",
    "    rhs = reader.pages[i + 1]\n",
    "    rhs.mergeTranslatedPage(lhs, 0, 364, True)\n",
    "    writer.add_page(rhs)\n",
    "\n",
    "\n",
    "with open(\"2-up.pdf\", \"wb\") as fp:\n",
    "    writer.write(fp)"
   ]
  },
  {
   "cell_type": "code",
   "execution_count": 79,
   "id": "98550f81",
   "metadata": {},
   "outputs": [],
   "source": [
    "\n",
    "reader = PdfFileReader(\"2-up.pdf\")\n",
    "writer = PdfFileWriter()\n",
    "\n",
    "for page in reader.pages:\n",
    "    page.compressContentStreams()  # This is CPU intensive!\n",
    "    writer.addPage(page)\n",
    "\n",
    "with open(\"reduced_Rosh.pdf\", \"wb\") as f:\n",
    "    writer.write(f)"
   ]
  }
 ],
 "metadata": {
  "kernelspec": {
   "display_name": "Python 3",
   "language": "python",
   "name": "python3"
  },
  "language_info": {
   "codemirror_mode": {
    "name": "ipython",
    "version": 3
   },
   "file_extension": ".py",
   "mimetype": "text/x-python",
   "name": "python",
   "nbconvert_exporter": "python",
   "pygments_lexer": "ipython3",
   "version": "3.6.13"
  },
  "widgets": {
   "application/vnd.jupyter.widget-state+json": {
    "state": {},
    "version_major": 2,
    "version_minor": 0
   }
  }
 },
 "nbformat": 4,
 "nbformat_minor": 5
}
